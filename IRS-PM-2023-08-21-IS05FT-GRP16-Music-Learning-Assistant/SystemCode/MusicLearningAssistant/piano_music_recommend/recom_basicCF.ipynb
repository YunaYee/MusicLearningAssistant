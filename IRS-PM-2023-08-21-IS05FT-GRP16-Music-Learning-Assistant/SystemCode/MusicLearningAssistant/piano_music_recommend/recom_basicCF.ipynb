{
  "cells": [
    {
      "cell_type": "code",
      "execution_count": 2,
      "metadata": {
        "colab": {
          "base_uri": "https://localhost:8080/"
        },
        "id": "U8DkCcQGB-9G",
        "outputId": "dbdc2a62-bb2a-4032-ba12-af2a170e2074"
      },
      "outputs": [
        {
          "name": "stdout",
          "output_type": "stream",
          "text": [
            "Mounted at /content/drive\n"
          ]
        }
      ],
      "source": [
        "from google.colab import drive\n",
        "drive.mount('/content/drive')"
      ]
    },
    {
      "cell_type": "code",
      "execution_count": 2,
      "metadata": {
        "colab": {
          "base_uri": "https://localhost:8080/"
        },
        "id": "WkkO_m9SAOlI",
        "outputId": "b3827293-0886-472b-d16f-cacdfa3d0305"
      },
      "outputs": [
        {
          "data": {
            "text/plain": [
              "(3503, 3)"
            ]
          },
          "execution_count": 2,
          "metadata": {},
          "output_type": "execute_result"
        }
      ],
      "source": [
        "import pandas as pd\n",
        "import numpy as np\n",
        "from sklearn.feature_extraction.text import TfidfVectorizer\n",
        "from sklearn.neighbors import NearestNeighbors\n",
        "import jieba\n",
        "\n",
        "music_df = pd.read_csv('pianoMusic.csv')\n",
        "music_df.head()\n",
        "features = music_df.columns.tolist()\n",
        "music_df.shape"
      ]
    },
    {
      "cell_type": "code",
      "execution_count": 50,
      "metadata": {
        "colab": {
          "base_uri": "https://localhost:8080/"
        },
        "id": "suo7j9HDfHXK",
        "outputId": "70e67d7f-0c80-489b-a805-772ee9484b38"
      },
      "outputs": [
        {
          "name": "stdout",
          "output_type": "stream",
          "text": [
            "钢 的 琴  \n",
            "                                      title  author musicType\n",
            "1055                            她的悲伤-夜的钢琴曲Ⅳ      石进       轻音乐\n",
            "2697                      循迹-我看着零落的枯的碎的风肆意地     王子健        流行\n",
            "1797                  你的微笑-太多的幸福报到拼凑爱的美妙-抖音  F.I.R.        流行\n",
            "2258            爱是无畏的冒险-简单版-无所畏惧的冒险 多想在你的身边      程今        流行\n",
            "802   热爱105°C的你-原调简单版-Super Idol的笑容都没你的甜-抖音      阿肆        流行\n"
          ]
        }
      ],
      "source": [
        "input = \"Piano\"\n",
        "keywords = [token.strip() for token in input.split(',')]\n",
        "title_split = list(jieba.cut(keywords[0]))\n",
        "title_str = \" \".join(title_split)\n",
        "keywords[0] = title_str\n",
        "keyword_string = \" \".join(keywords)\n",
        "print(keyword_string)\n",
        "\n",
        "vectorizer = TfidfVectorizer(token_pattern=r\"(?u)\\b\\w+\\b\")\n",
        "datas = []\n",
        "for index, row in music_df.iterrows():\n",
        "  data =[]\n",
        "  title_split = list(jieba.cut(row['title']))\n",
        "  title_str = \" \".join(title_split)\n",
        "  data.append(title_str)\n",
        "  # data.append(row['title'])\n",
        "  data.append(row['author'])\n",
        "  data.append(row['musicType'])\n",
        "  data_string = \" \".join(data)\n",
        "  # print(data_string)\n",
        "  datas.append(data_string)\n",
        "\n",
        "set_vectorized = vectorizer.fit_transform(datas) #datas music_df['title']\n",
        "# print(datas)\n",
        "\n",
        "keyword_vectorized = vectorizer.transform([keyword_string])\n",
        "#set_vectorized = pd.DataFrame(set_vectorized)\n",
        "\n",
        "#cos_sim = cosine_similarity(keyword_vectorized, cupping_notes_vectorized)\n",
        "model_knn = NearestNeighbors(n_neighbors=5, algorithm='brute')\n",
        "model_knn.fit(set_vectorized)\n",
        "\n",
        "distances, indices = model_knn.kneighbors(keyword_vectorized)\n",
        "for each in indices:\n",
        "    print(music_df.iloc[each])"
      ]
    },
    {
      "cell_type": "code",
      "execution_count": null,
      "metadata": {
        "id": "PaK6uakpfIxe"
      },
      "outputs": [],
      "source": [
        "\n",
        "\n",
        "\n"
      ]
    }
  ],
  "metadata": {
    "colab": {
      "provenance": []
    },
    "kernelspec": {
      "display_name": "Python 3",
      "name": "python3"
    },
    "language_info": {
      "name": "python"
    }
  },
  "nbformat": 4,
  "nbformat_minor": 0
}
